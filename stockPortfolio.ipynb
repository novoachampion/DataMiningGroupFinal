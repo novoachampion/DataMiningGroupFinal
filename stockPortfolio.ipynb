{
  "nbformat": 4,
  "nbformat_minor": 0,
  "metadata": {
    "colab": {
      "provenance": [],
      "authorship_tag": "ABX9TyO5DT8ROfmNv6Xt1APHGitu",
      "include_colab_link": true
    },
    "kernelspec": {
      "name": "python3",
      "display_name": "Python 3"
    },
    "language_info": {
      "name": "python"
    }
  },
  "cells": [
    {
      "cell_type": "markdown",
      "metadata": {
        "id": "view-in-github",
        "colab_type": "text"
      },
      "source": [
        "<a href=\"https://colab.research.google.com/github/novoachampion/DataMiningGroupFinal/blob/main/stockPortfolio.ipynb\" target=\"_parent\"><img src=\"https://colab.research.google.com/assets/colab-badge.svg\" alt=\"Open In Colab\"/></a>"
      ]
    },
    {
      "cell_type": "code",
      "execution_count": null,
      "metadata": {
        "id": "5fMWBjMer-KG"
      },
      "outputs": [],
      "source": []
    },
    {
      "cell_type": "markdown",
      "source": [
        "##Ingest"
      ],
      "metadata": {
        "id": "CokKIngasVBL"
      }
    },
    {
      "cell_type": "code",
      "source": [
        "import pandas as pd"
      ],
      "metadata": {
        "id": "zDTDpF_vsk3v"
      },
      "execution_count": null,
      "outputs": []
    },
    {
      "cell_type": "markdown",
      "source": [
        "##EDA"
      ],
      "metadata": {
        "id": "nqvefw8BsWj0"
      }
    },
    {
      "cell_type": "code",
      "source": [],
      "metadata": {
        "id": "dg649C2lsllD"
      },
      "execution_count": null,
      "outputs": []
    },
    {
      "cell_type": "markdown",
      "source": [
        "##Modeling"
      ],
      "metadata": {
        "id": "4iDtVqpFsY_y"
      }
    },
    {
      "cell_type": "code",
      "source": [],
      "metadata": {
        "id": "W6Hzk4p5smBd"
      },
      "execution_count": null,
      "outputs": []
    },
    {
      "cell_type": "markdown",
      "source": [
        "##Conclusion"
      ],
      "metadata": {
        "id": "O9WS4QT9sabo"
      }
    },
    {
      "cell_type": "code",
      "source": [],
      "metadata": {
        "id": "gMNXA9Hpsmhl"
      },
      "execution_count": null,
      "outputs": []
    }
  ]
}