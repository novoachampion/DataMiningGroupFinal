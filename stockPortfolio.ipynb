{
  "cells": [
    {
      "cell_type": "markdown",
      "metadata": {
        "colab_type": "text",
        "id": "view-in-github"
      },
      "source": [
        "<a href=\"https://colab.research.google.com/github/novoachampion/DataMiningGroupFinal/blob/main/stockPortfolio.ipynb\" target=\"_parent\"><img src=\"https://colab.research.google.com/assets/colab-badge.svg\" alt=\"Open In Colab\"/></a>"
      ]
    },
    {
      "cell_type": "code",
      "execution_count": null,
      "metadata": {
        "id": "5fMWBjMer-KG"
      },
      "outputs": [],
      "source": []
    },
    {
      "cell_type": "markdown",
      "metadata": {
        "id": "CokKIngasVBL"
      },
      "source": [
        "##Ingest"
      ]
    },
    {
      "cell_type": "code",
      "execution_count": null,
      "metadata": {
        "id": "zDTDpF_vsk3v"
      },
      "outputs": [
        {
          "ename": "",
          "evalue": "",
          "output_type": "error",
          "traceback": [
            "\u001b[1;31mRunning cells with 'Python 3.12.3' requires the ipykernel package.\n",
            "\u001b[1;31mRun the following command to install 'ipykernel' into the Python environment. \n",
            "\u001b[1;31mCommand: '/opt/homebrew/bin/python3 -m pip install ipykernel -U --user --force-reinstall'"
          ]
        }
      ],
      "source": [
        "import pandas as pd\n",
        "import os\n",
        "import pandas as pd\n",
        "import requests\n",
        "import pandas as pd\n",
        "import matplotlib.pyplot as plt\n",
        "import seaborn as sns\n",
        "\n",
        "# URL of the Excel file on GitHub\n",
        "excel_url = 'https://github.com/novoachampion/DataMiningGroupFinal/raw/fcd2288b9e94e4aac1b8fac5b3c6179cc02eda85/stockPortfolio.xlsx'\n",
        "\n",
        "# Download the Excel file\n",
        "response = requests.get(excel_url)\n",
        "with open('stockPortfolio.xlsx', 'wb') as f:\n",
        "    f.write(response.content)\n",
        "\n",
        "# Create a directory named \"csv\" if it doesn't exist\n",
        "csv_dir = 'csv'\n",
        "if not os.path.exists(csv_dir):\n",
        "    os.makedirs(csv_dir)\n",
        "\n",
        "# Load the Excel file\n",
        "xls = pd.ExcelFile('stockPortfolio.xlsx')\n",
        "\n",
        "# Process each sheet and save as CSV\n",
        "for sheet_name in xls.sheet_names:\n",
        "    # Read the sheet into a DataFrame\n",
        "    df = pd.read_excel(xls, sheet_name=sheet_name)\n",
        "    \n",
        "    # Define the CSV file path\n",
        "    csv_file_path = os.path.join(csv_dir, f\"{sheet_name}.csv\")\n",
        "    \n",
        "    # Save the DataFrame to CSV\n",
        "    df.to_csv(csv_file_path, index=False)\n",
        "    \n",
        "    print(f\"Processed and saved '{sheet_name}' as '{csv_file_path}'\")\n"
      ]
    },
    {
      "cell_type": "code",
      "execution_count": null,
      "metadata": {},
      "outputs": [],
      "source": []
    },
    {
      "cell_type": "markdown",
      "metadata": {
        "id": "nqvefw8BsWj0"
      },
      "source": [
        "##EDA"
      ]
    },
    {
      "cell_type": "code",
      "execution_count": null,
      "metadata": {
        "id": "dg649C2lsllD"
      },
      "outputs": [],
      "source": []
    },
    {
      "cell_type": "markdown",
      "metadata": {
        "id": "4iDtVqpFsY_y"
      },
      "source": [
        "##Modeling"
      ]
    },
    {
      "cell_type": "code",
      "execution_count": null,
      "metadata": {
        "id": "W6Hzk4p5smBd"
      },
      "outputs": [],
      "source": []
    },
    {
      "cell_type": "markdown",
      "metadata": {
        "id": "O9WS4QT9sabo"
      },
      "source": [
        "##Conclusion"
      ]
    },
    {
      "cell_type": "code",
      "execution_count": null,
      "metadata": {
        "id": "gMNXA9Hpsmhl"
      },
      "outputs": [],
      "source": []
    }
  ],
  "metadata": {
    "colab": {
      "authorship_tag": "ABX9TyO5DT8ROfmNv6Xt1APHGitu",
      "include_colab_link": true,
      "provenance": []
    },
    "kernelspec": {
      "display_name": "Python 3",
      "name": "python3"
    },
    "language_info": {
      "name": "python",
      "version": "3.12.3"
    }
  },
  "nbformat": 4,
  "nbformat_minor": 0
}
