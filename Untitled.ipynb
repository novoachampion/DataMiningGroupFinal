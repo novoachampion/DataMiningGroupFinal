{
 "cells": [
  {
   "cell_type": "code",
   "execution_count": 2,
   "id": "2071e098-2638-4566-8de8-51f445636a4d",
   "metadata": {},
   "outputs": [
    {
     "name": "stdout",
     "output_type": "stream",
     "text": [
      "Hey Night Owls!\n"
     ]
    }
   ],
   "source": [
    "print(\"Hey Night Owls!\")"
   ]
  },
  {
   "cell_type": "code",
   "execution_count": null,
   "id": "a262d8a5-c8f2-46d5-88ba-6eacb3a420a1",
   "metadata": {},
   "outputs": [],
   "source": []
  }
 ],
 "metadata": {
  "kernelspec": {
   "display_name": "Python 3 (ipykernel)",
   "language": "python",
   "name": "python3"
  },
  "language_info": {
   "codemirror_mode": {
    "name": "ipython",
    "version": 3
   },
   "file_extension": ".py",
   "mimetype": "text/x-python",
   "name": "python",
   "nbconvert_exporter": "python",
   "pygments_lexer": "ipython3",
   "version": "3.11.8"
  }
 },
 "nbformat": 4,
 "nbformat_minor": 5
}
